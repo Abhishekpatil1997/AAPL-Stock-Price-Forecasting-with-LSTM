{
  "nbformat": 4,
  "nbformat_minor": 0,
  "metadata": {
    "colab": {
      "provenance": []
    },
    "kernelspec": {
      "name": "python3",
      "display_name": "Python 3"
    },
    "language_info": {
      "name": "python"
    }
  },
  "cells": [
    {
      "cell_type": "markdown",
      "source": [
        "# Project Title: AAPL Close Price Predition using LSTM\n",
        "## By: Abhishek Patil\n",
        "\n",
        "## Project Background:\n",
        "### We are trying to predict the close prices of AAPL stock using LSTM model. We have gathered the daily data of APPLE STOCK from 2010 to 2024 apple stock.\n",
        "## Importing all the required Libraries:\n"
      ],
      "metadata": {
        "id": "yVf6VF3L3l6R"
      }
    },
    {
      "cell_type": "code",
      "source": [
        "import math\n",
        "import yfinance as yf\n",
        "import pandas_datareader as web\n",
        "import numpy as np\n",
        "import pandas as pd\n",
        "from sklearn.preprocessing import MinMaxScaler\n",
        "from keras.models import Sequential\n",
        "from keras.layers import Dense, LSTM\n",
        "import matplotlib.pyplot as plt\n",
        "plt.style.use('fivethirtyeight')\n",
        "from sklearn.metrics import r2_score, mean_squared_error\n"
      ],
      "metadata": {
        "id": "aCvULsT23mPt"
      },
      "execution_count": null,
      "outputs": []
    },
    {
      "cell_type": "markdown",
      "source": [
        "# Download the Required Data from Yahoo Finance:\n",
        "\n"
      ],
      "metadata": {
        "id": "KSsS6QWl4sXR"
      }
    },
    {
      "cell_type": "code",
      "source": [
        "# Download AAPL data from 2010-01-01 to 2024-01-01\n",
        "aapl_data = yf.download('AAPL', start='2010-01-01', end='2024-01-01')\n",
        "\n",
        "# Print the last few rows of the data\n",
        "aapl_data.tail()"
      ],
      "metadata": {
        "colab": {
          "base_uri": "https://localhost:8080/",
          "height": 255
        },
        "id": "UlCZDwBi3mS6",
        "outputId": "bda76d2b-44f4-410c-e4d0-94a63c0089b7"
      },
      "execution_count": null,
      "outputs": [
        {
          "output_type": "stream",
          "name": "stderr",
          "text": [
            "\r[*********************100%%**********************]  1 of 1 completed\n"
          ]
        },
        {
          "output_type": "execute_result",
          "data": {
            "text/plain": [
              "                  Open        High         Low       Close   Adj Close  \\\n",
              "Date                                                                     \n",
              "2023-12-22  195.179993  195.410004  192.970001  193.600006  193.353287   \n",
              "2023-12-26  193.610001  193.889999  192.830002  193.050003  192.803986   \n",
              "2023-12-27  192.490005  193.500000  191.089996  193.149994  192.903839   \n",
              "2023-12-28  194.139999  194.660004  193.169998  193.580002  193.333298   \n",
              "2023-12-29  193.899994  194.399994  191.729996  192.529999  192.284637   \n",
              "\n",
              "              Volume  \n",
              "Date                  \n",
              "2023-12-22  37122800  \n",
              "2023-12-26  28919300  \n",
              "2023-12-27  48087700  \n",
              "2023-12-28  34049900  \n",
              "2023-12-29  42628800  "
            ],
            "text/html": [
              "\n",
              "  <div id=\"df-c07030be-f3cd-4e70-a74d-48e11d6aa511\" class=\"colab-df-container\">\n",
              "    <div>\n",
              "<style scoped>\n",
              "    .dataframe tbody tr th:only-of-type {\n",
              "        vertical-align: middle;\n",
              "    }\n",
              "\n",
              "    .dataframe tbody tr th {\n",
              "        vertical-align: top;\n",
              "    }\n",
              "\n",
              "    .dataframe thead th {\n",
              "        text-align: right;\n",
              "    }\n",
              "</style>\n",
              "<table border=\"1\" class=\"dataframe\">\n",
              "  <thead>\n",
              "    <tr style=\"text-align: right;\">\n",
              "      <th></th>\n",
              "      <th>Open</th>\n",
              "      <th>High</th>\n",
              "      <th>Low</th>\n",
              "      <th>Close</th>\n",
              "      <th>Adj Close</th>\n",
              "      <th>Volume</th>\n",
              "    </tr>\n",
              "    <tr>\n",
              "      <th>Date</th>\n",
              "      <th></th>\n",
              "      <th></th>\n",
              "      <th></th>\n",
              "      <th></th>\n",
              "      <th></th>\n",
              "      <th></th>\n",
              "    </tr>\n",
              "  </thead>\n",
              "  <tbody>\n",
              "    <tr>\n",
              "      <th>2023-12-22</th>\n",
              "      <td>195.179993</td>\n",
              "      <td>195.410004</td>\n",
              "      <td>192.970001</td>\n",
              "      <td>193.600006</td>\n",
              "      <td>193.353287</td>\n",
              "      <td>37122800</td>\n",
              "    </tr>\n",
              "    <tr>\n",
              "      <th>2023-12-26</th>\n",
              "      <td>193.610001</td>\n",
              "      <td>193.889999</td>\n",
              "      <td>192.830002</td>\n",
              "      <td>193.050003</td>\n",
              "      <td>192.803986</td>\n",
              "      <td>28919300</td>\n",
              "    </tr>\n",
              "    <tr>\n",
              "      <th>2023-12-27</th>\n",
              "      <td>192.490005</td>\n",
              "      <td>193.500000</td>\n",
              "      <td>191.089996</td>\n",
              "      <td>193.149994</td>\n",
              "      <td>192.903839</td>\n",
              "      <td>48087700</td>\n",
              "    </tr>\n",
              "    <tr>\n",
              "      <th>2023-12-28</th>\n",
              "      <td>194.139999</td>\n",
              "      <td>194.660004</td>\n",
              "      <td>193.169998</td>\n",
              "      <td>193.580002</td>\n",
              "      <td>193.333298</td>\n",
              "      <td>34049900</td>\n",
              "    </tr>\n",
              "    <tr>\n",
              "      <th>2023-12-29</th>\n",
              "      <td>193.899994</td>\n",
              "      <td>194.399994</td>\n",
              "      <td>191.729996</td>\n",
              "      <td>192.529999</td>\n",
              "      <td>192.284637</td>\n",
              "      <td>42628800</td>\n",
              "    </tr>\n",
              "  </tbody>\n",
              "</table>\n",
              "</div>\n",
              "    <div class=\"colab-df-buttons\">\n",
              "\n",
              "  <div class=\"colab-df-container\">\n",
              "    <button class=\"colab-df-convert\" onclick=\"convertToInteractive('df-c07030be-f3cd-4e70-a74d-48e11d6aa511')\"\n",
              "            title=\"Convert this dataframe to an interactive table.\"\n",
              "            style=\"display:none;\">\n",
              "\n",
              "  <svg xmlns=\"http://www.w3.org/2000/svg\" height=\"24px\" viewBox=\"0 -960 960 960\">\n",
              "    <path d=\"M120-120v-720h720v720H120Zm60-500h600v-160H180v160Zm220 220h160v-160H400v160Zm0 220h160v-160H400v160ZM180-400h160v-160H180v160Zm440 0h160v-160H620v160ZM180-180h160v-160H180v160Zm440 0h160v-160H620v160Z\"/>\n",
              "  </svg>\n",
              "    </button>\n",
              "\n",
              "  <style>\n",
              "    .colab-df-container {\n",
              "      display:flex;\n",
              "      gap: 12px;\n",
              "    }\n",
              "\n",
              "    .colab-df-convert {\n",
              "      background-color: #E8F0FE;\n",
              "      border: none;\n",
              "      border-radius: 50%;\n",
              "      cursor: pointer;\n",
              "      display: none;\n",
              "      fill: #1967D2;\n",
              "      height: 32px;\n",
              "      padding: 0 0 0 0;\n",
              "      width: 32px;\n",
              "    }\n",
              "\n",
              "    .colab-df-convert:hover {\n",
              "      background-color: #E2EBFA;\n",
              "      box-shadow: 0px 1px 2px rgba(60, 64, 67, 0.3), 0px 1px 3px 1px rgba(60, 64, 67, 0.15);\n",
              "      fill: #174EA6;\n",
              "    }\n",
              "\n",
              "    .colab-df-buttons div {\n",
              "      margin-bottom: 4px;\n",
              "    }\n",
              "\n",
              "    [theme=dark] .colab-df-convert {\n",
              "      background-color: #3B4455;\n",
              "      fill: #D2E3FC;\n",
              "    }\n",
              "\n",
              "    [theme=dark] .colab-df-convert:hover {\n",
              "      background-color: #434B5C;\n",
              "      box-shadow: 0px 1px 3px 1px rgba(0, 0, 0, 0.15);\n",
              "      filter: drop-shadow(0px 1px 2px rgba(0, 0, 0, 0.3));\n",
              "      fill: #FFFFFF;\n",
              "    }\n",
              "  </style>\n",
              "\n",
              "    <script>\n",
              "      const buttonEl =\n",
              "        document.querySelector('#df-c07030be-f3cd-4e70-a74d-48e11d6aa511 button.colab-df-convert');\n",
              "      buttonEl.style.display =\n",
              "        google.colab.kernel.accessAllowed ? 'block' : 'none';\n",
              "\n",
              "      async function convertToInteractive(key) {\n",
              "        const element = document.querySelector('#df-c07030be-f3cd-4e70-a74d-48e11d6aa511');\n",
              "        const dataTable =\n",
              "          await google.colab.kernel.invokeFunction('convertToInteractive',\n",
              "                                                    [key], {});\n",
              "        if (!dataTable) return;\n",
              "\n",
              "        const docLinkHtml = 'Like what you see? Visit the ' +\n",
              "          '<a target=\"_blank\" href=https://colab.research.google.com/notebooks/data_table.ipynb>data table notebook</a>'\n",
              "          + ' to learn more about interactive tables.';\n",
              "        element.innerHTML = '';\n",
              "        dataTable['output_type'] = 'display_data';\n",
              "        await google.colab.output.renderOutput(dataTable, element);\n",
              "        const docLink = document.createElement('div');\n",
              "        docLink.innerHTML = docLinkHtml;\n",
              "        element.appendChild(docLink);\n",
              "      }\n",
              "    </script>\n",
              "  </div>\n",
              "\n",
              "\n",
              "<div id=\"df-3bfae37f-0df5-4e95-a1a4-170156c62ce6\">\n",
              "  <button class=\"colab-df-quickchart\" onclick=\"quickchart('df-3bfae37f-0df5-4e95-a1a4-170156c62ce6')\"\n",
              "            title=\"Suggest charts\"\n",
              "            style=\"display:none;\">\n",
              "\n",
              "<svg xmlns=\"http://www.w3.org/2000/svg\" height=\"24px\"viewBox=\"0 0 24 24\"\n",
              "     width=\"24px\">\n",
              "    <g>\n",
              "        <path d=\"M19 3H5c-1.1 0-2 .9-2 2v14c0 1.1.9 2 2 2h14c1.1 0 2-.9 2-2V5c0-1.1-.9-2-2-2zM9 17H7v-7h2v7zm4 0h-2V7h2v10zm4 0h-2v-4h2v4z\"/>\n",
              "    </g>\n",
              "</svg>\n",
              "  </button>\n",
              "\n",
              "<style>\n",
              "  .colab-df-quickchart {\n",
              "      --bg-color: #E8F0FE;\n",
              "      --fill-color: #1967D2;\n",
              "      --hover-bg-color: #E2EBFA;\n",
              "      --hover-fill-color: #174EA6;\n",
              "      --disabled-fill-color: #AAA;\n",
              "      --disabled-bg-color: #DDD;\n",
              "  }\n",
              "\n",
              "  [theme=dark] .colab-df-quickchart {\n",
              "      --bg-color: #3B4455;\n",
              "      --fill-color: #D2E3FC;\n",
              "      --hover-bg-color: #434B5C;\n",
              "      --hover-fill-color: #FFFFFF;\n",
              "      --disabled-bg-color: #3B4455;\n",
              "      --disabled-fill-color: #666;\n",
              "  }\n",
              "\n",
              "  .colab-df-quickchart {\n",
              "    background-color: var(--bg-color);\n",
              "    border: none;\n",
              "    border-radius: 50%;\n",
              "    cursor: pointer;\n",
              "    display: none;\n",
              "    fill: var(--fill-color);\n",
              "    height: 32px;\n",
              "    padding: 0;\n",
              "    width: 32px;\n",
              "  }\n",
              "\n",
              "  .colab-df-quickchart:hover {\n",
              "    background-color: var(--hover-bg-color);\n",
              "    box-shadow: 0 1px 2px rgba(60, 64, 67, 0.3), 0 1px 3px 1px rgba(60, 64, 67, 0.15);\n",
              "    fill: var(--button-hover-fill-color);\n",
              "  }\n",
              "\n",
              "  .colab-df-quickchart-complete:disabled,\n",
              "  .colab-df-quickchart-complete:disabled:hover {\n",
              "    background-color: var(--disabled-bg-color);\n",
              "    fill: var(--disabled-fill-color);\n",
              "    box-shadow: none;\n",
              "  }\n",
              "\n",
              "  .colab-df-spinner {\n",
              "    border: 2px solid var(--fill-color);\n",
              "    border-color: transparent;\n",
              "    border-bottom-color: var(--fill-color);\n",
              "    animation:\n",
              "      spin 1s steps(1) infinite;\n",
              "  }\n",
              "\n",
              "  @keyframes spin {\n",
              "    0% {\n",
              "      border-color: transparent;\n",
              "      border-bottom-color: var(--fill-color);\n",
              "      border-left-color: var(--fill-color);\n",
              "    }\n",
              "    20% {\n",
              "      border-color: transparent;\n",
              "      border-left-color: var(--fill-color);\n",
              "      border-top-color: var(--fill-color);\n",
              "    }\n",
              "    30% {\n",
              "      border-color: transparent;\n",
              "      border-left-color: var(--fill-color);\n",
              "      border-top-color: var(--fill-color);\n",
              "      border-right-color: var(--fill-color);\n",
              "    }\n",
              "    40% {\n",
              "      border-color: transparent;\n",
              "      border-right-color: var(--fill-color);\n",
              "      border-top-color: var(--fill-color);\n",
              "    }\n",
              "    60% {\n",
              "      border-color: transparent;\n",
              "      border-right-color: var(--fill-color);\n",
              "    }\n",
              "    80% {\n",
              "      border-color: transparent;\n",
              "      border-right-color: var(--fill-color);\n",
              "      border-bottom-color: var(--fill-color);\n",
              "    }\n",
              "    90% {\n",
              "      border-color: transparent;\n",
              "      border-bottom-color: var(--fill-color);\n",
              "    }\n",
              "  }\n",
              "</style>\n",
              "\n",
              "  <script>\n",
              "    async function quickchart(key) {\n",
              "      const quickchartButtonEl =\n",
              "        document.querySelector('#' + key + ' button');\n",
              "      quickchartButtonEl.disabled = true;  // To prevent multiple clicks.\n",
              "      quickchartButtonEl.classList.add('colab-df-spinner');\n",
              "      try {\n",
              "        const charts = await google.colab.kernel.invokeFunction(\n",
              "            'suggestCharts', [key], {});\n",
              "      } catch (error) {\n",
              "        console.error('Error during call to suggestCharts:', error);\n",
              "      }\n",
              "      quickchartButtonEl.classList.remove('colab-df-spinner');\n",
              "      quickchartButtonEl.classList.add('colab-df-quickchart-complete');\n",
              "    }\n",
              "    (() => {\n",
              "      let quickchartButtonEl =\n",
              "        document.querySelector('#df-3bfae37f-0df5-4e95-a1a4-170156c62ce6 button');\n",
              "      quickchartButtonEl.style.display =\n",
              "        google.colab.kernel.accessAllowed ? 'block' : 'none';\n",
              "    })();\n",
              "  </script>\n",
              "</div>\n",
              "\n",
              "    </div>\n",
              "  </div>\n"
            ],
            "application/vnd.google.colaboratory.intrinsic+json": {
              "type": "dataframe",
              "summary": "{\n  \"name\": \"aapl_data\",\n  \"rows\": 5,\n  \"fields\": [\n    {\n      \"column\": \"Open\",\n      \"properties\": {\n        \"dtype\": \"number\",\n        \"std\": 0.9697531311015256,\n        \"min\": 192.49000549316406,\n        \"max\": 195.17999267578125,\n        \"num_unique_values\": 5,\n        \"samples\": [\n          193.61000061035156,\n          193.89999389648438,\n          192.49000549316406\n        ],\n        \"semantic_type\": \"\",\n        \"description\": \"\"\n      }\n    },\n    {\n      \"column\": \"High\",\n      \"properties\": {\n        \"dtype\": \"number\",\n        \"std\": 0.733806847637794,\n        \"min\": 193.5,\n        \"max\": 195.41000366210938,\n        \"num_unique_values\": 5,\n        \"samples\": [\n          193.88999938964844,\n          194.39999389648438,\n          193.5\n        ],\n        \"semantic_type\": \"\",\n        \"description\": \"\"\n      }\n    },\n    {\n      \"column\": \"Low\",\n      \"properties\": {\n        \"dtype\": \"number\",\n        \"std\": 0.9026204770520381,\n        \"min\": 191.08999633789062,\n        \"max\": 193.1699981689453,\n        \"num_unique_values\": 5,\n        \"samples\": [\n          192.8300018310547,\n          191.72999572753906,\n          191.08999633789062\n        ],\n        \"semantic_type\": \"\",\n        \"description\": \"\"\n      }\n    },\n    {\n      \"column\": \"Close\",\n      \"properties\": {\n        \"dtype\": \"number\",\n        \"std\": 0.4406494459608414,\n        \"min\": 192.52999877929688,\n        \"max\": 193.60000610351562,\n        \"num_unique_values\": 5,\n        \"samples\": [\n          193.0500030517578,\n          192.52999877929688,\n          193.14999389648438\n        ],\n        \"semantic_type\": \"\",\n        \"description\": \"\"\n      }\n    },\n    {\n      \"column\": \"Adj Close\",\n      \"properties\": {\n        \"dtype\": \"number\",\n        \"std\": 0.44008772586140965,\n        \"min\": 192.28463745117188,\n        \"max\": 193.35328674316406,\n        \"num_unique_values\": 5,\n        \"samples\": [\n          192.80398559570312,\n          192.28463745117188,\n          192.90383911132812\n        ],\n        \"semantic_type\": \"\",\n        \"description\": \"\"\n      }\n    },\n    {\n      \"column\": \"Volume\",\n      \"properties\": {\n        \"dtype\": \"number\",\n        \"std\": 7447963,\n        \"min\": 28919300,\n        \"max\": 48087700,\n        \"num_unique_values\": 5,\n        \"samples\": [\n          28919300,\n          42628800,\n          48087700\n        ],\n        \"semantic_type\": \"\",\n        \"description\": \"\"\n      }\n    }\n  ]\n}"
            }
          },
          "metadata": {},
          "execution_count": 30
        }
      ]
    },
    {
      "cell_type": "code",
      "source": [
        "aapl_data.shape"
      ],
      "metadata": {
        "colab": {
          "base_uri": "https://localhost:8080/"
        },
        "id": "jG2qQPj06Ctx",
        "outputId": "4ef52d8b-0787-4f59-fbd0-8a1393013e18"
      },
      "execution_count": null,
      "outputs": [
        {
          "output_type": "execute_result",
          "data": {
            "text/plain": [
              "(3522, 6)"
            ]
          },
          "metadata": {},
          "execution_count": 31
        }
      ]
    },
    {
      "cell_type": "code",
      "source": [
        "#Visualize the closing price history\n",
        "plt.figure(figsize = (16,8))\n",
        "plt.title('Close Price History')\n",
        "plt.plot(aapl_data[\"Close\"])\n",
        "plt.xlabel('Date', fontsize = 18)\n",
        "plt.ylabel('Price of AAPL', fontsize = 18)\n",
        "plt.show()"
      ],
      "metadata": {
        "colab": {
          "base_uri": "https://localhost:8080/",
          "height": 436
        },
        "id": "UPIPxu3T__fX",
        "outputId": "0dffb075-985c-4c94-e9cf-de2a07faa178"
      },
      "execution_count": null,
      "outputs": [
        {
          "output_type": "display_data",
          "data": {
            "text/plain": [
              "<Figure size 1600x800 with 1 Axes>"
            ],
            "image/png": "[encoded data removed]"
          },
          "metadata": {}
        }
      ]
    },
    {
      "cell_type": "code",
      "source": [
        "#Create a mew dataframe\n",
        "aapl_close_data = aapl_data.filter(['Close'])\n",
        "\n",
        "#Convert the DataFrame to a numpy array\n",
        "dataset = aapl_close_data.values\n",
        "\n",
        "# Get the numbe of rows to train the model on\n",
        "training_data_len = math.ceil(len(dataset) * 0.8)\n",
        "\n"
      ],
      "metadata": {
        "id": "6hgatw-SZjbl"
      },
      "execution_count": null,
      "outputs": []
    },
    {
      "cell_type": "code",
      "source": [
        "# Scale the data\n",
        "scaler = MinMaxScaler(feature_range=(0,1))\n",
        "\n",
        "scaled_data = scaler.fit_transform(dataset)"
      ],
      "metadata": {
        "id": "xrSLSrTIayl1"
      },
      "execution_count": null,
      "outputs": []
    },
    {
      "cell_type": "code",
      "source": [
        "# Create teh training data\n",
        "# Create the scaled training data set\n",
        "\n",
        "train_data = scaled_data[0:training_data_len,:]\n",
        "\n",
        "#Split the data into x_train and y_train datasets\n",
        "x_train = []\n",
        "y_train = []\n",
        "\n",
        "for i in range(60, len(train_data)):\n",
        "  x_train.append(train_data[i-60:i,0])\n",
        "  y_train.append(train_data[i,0])\n",
        "  if i <=60:\n",
        "    print(x_train)\n",
        "    print(y_train)\n",
        "    print()"
      ],
      "metadata": {
        "colab": {
          "base_uri": "https://localhost:8080/"
        },
        "id": "YESxtZuTbOCU",
        "outputId": "d19cc198-2600-412a-fdd9-b6ddc0e57388"
      },
      "execution_count": null,
      "outputs": [
        {
          "output_type": "stream",
          "name": "stdout",
          "text": [
            "[array([4.10081399e-03, 4.16990948e-03, 3.53312539e-03, 3.46029250e-03,\n",
            "       3.72172994e-03, 3.37253003e-03, 2.92621544e-03, 3.47336463e-03,\n",
            "       3.24554370e-03, 2.59195259e-03, 4.29315593e-03, 3.67504878e-03,\n",
            "       2.99157355e-03, 1.06441674e-03, 2.05787553e-03, 2.59382004e-03,\n",
            "       2.95609707e-03, 1.35199593e-03, 1.86495266e-06, 5.00460545e-04,\n",
            "       7.11476946e-04, 1.34079126e-03, 0.00000000e+00, 6.36779110e-04,\n",
            "       3.86548837e-04, 7.73102661e-04, 5.73288442e-04, 1.23621678e-03,\n",
            "       1.55554505e-03, 2.11950124e-03, 1.96077333e-03, 2.03173129e-03,\n",
            "       1.79643809e-03, 1.56301234e-03, 9.35565469e-04, 1.60783353e-03,\n",
            "       1.85806380e-03, 2.34732217e-03, 3.16338107e-03, 3.13723683e-03,\n",
            "       3.22686675e-03, 3.48456930e-03, 5.02331232e-03, 5.04758912e-03,\n",
            "       5.78334535e-03, 6.12321054e-03, 6.24645698e-03, 6.45187603e-03,\n",
            "       5.93647342e-03, 6.05038264e-03, 5.98875942e-03, 6.08773156e-03,\n",
            "       5.63955451e-03, 6.10640602e-03, 6.78053654e-03, 6.96914608e-03,\n",
            "       6.46121077e-03, 7.25486281e-03, 7.53309979e-03, 8.17922111e-03])]\n",
            "[0.008020490703601182]\n",
            "\n"
          ]
        }
      ]
    },
    {
      "cell_type": "code",
      "source": [
        "# Convert the x_train and y_train to numpy arrays\n",
        "x_train, y_train = np.array(x_train), np.array(y_train)\n",
        "x_train.shape"
      ],
      "metadata": {
        "colab": {
          "base_uri": "https://localhost:8080/"
        },
        "id": "f2NZbC-uci11",
        "outputId": "c14fff43-7ad7-4ae8-dafa-92d77d73eb45"
      },
      "execution_count": null,
      "outputs": [
        {
          "output_type": "execute_result",
          "data": {
            "text/plain": [
              "(2758, 60)"
            ]
          },
          "metadata": {},
          "execution_count": 36
        }
      ]
    },
    {
      "cell_type": "code",
      "source": [
        "#Reshape the data\n",
        "x_train = np.reshape(x_train,(x_train.shape[0],x_train.shape[1],1))\n",
        "x_train.shape"
      ],
      "metadata": {
        "colab": {
          "base_uri": "https://localhost:8080/"
        },
        "id": "MwKM1mOFdrX0",
        "outputId": "b80871c5-66bb-4aa2-94de-c8ccd9ea01ad"
      },
      "execution_count": null,
      "outputs": [
        {
          "output_type": "execute_result",
          "data": {
            "text/plain": [
              "(2758, 60, 1)"
            ]
          },
          "metadata": {},
          "execution_count": 37
        }
      ]
    },
    {
      "cell_type": "markdown",
      "source": [
        "## Long Short-Term Memory (LSTM) is a type of recurrent neural network (RNN) architecture that is particularly effective for sequential data like time series, making it suitable for financial data analysis and stock price prediction.\n",
        "\n",
        "## Here's a simplified explanation of how LSTM works in finance:\n",
        "\n",
        "### 1) Sequential Data Handling: In finance, historical stock price data is sequential, where each data point depends on previous ones. LSTM is well-suited for capturing patterns and dependencies in such sequential data.\n",
        "\n",
        "### 2) Memory and Forget Gates: LSTM has the ability to retain information over long periods and selectively forget irrelevant information. It achieves this through mechanisms called memory cells and gates.\n",
        "\n",
        "#### Memory Cell: The memory cell stores information over time.\n",
        "#### Forget Gate: This gate decides which information to discard from the cell state.\n",
        "\n",
        "### 3) Update and Output Gates: LSTM also has mechanisms for updating and outputting information from the memory cell.\n",
        "\n",
        "#### Update Gate: This gate decides how much of the new information will be stored in the memory cell.\n",
        "#### Output Gate: It controls how much information from the memory cell will be used to predict the output.\n",
        "### 4) Training and Learning: During training, the LSTM model adjusts its parameters (weights and biases) based on historical data to learn patterns and relationships. It does this through a process called backpropagation, where errors are propagated backward through the network to update the parameters.\n",
        "\n",
        "## Example:\n",
        "## Let's say we want to predict the closing price of a stock based on its historical prices over the past 30 days. We can use an LSTM model to learn patterns from this historical data and make predictions for future closing prices.\n",
        "\n",
        "#### 1)Input Data: For each day, we input the stock's closing price, volume, and other relevant features over the past 30 days.\n",
        "#### 2)LSTM Model: The LSTM model processes this sequential input data, learning patterns and relationships between past prices and future prices.\n",
        "#### 3)Training: During training, the model adjusts its parameters by comparing its predictions with actual closing prices from the training data.\n",
        "#### 4)Prediction: After training, the model can predict the closing price for the next day based on the most recent historical data.\n",
        "\n",
        "##In summary, LSTM models in finance analyze sequential data like historical stock prices, capturing patterns and dependencies to make predictions about future prices. They are trained to remember relevant information while discarding irrelevant data, enabling accurate forecasting of stock prices."
      ],
      "metadata": {
        "id": "7IxXJjAzM55A"
      }
    },
    {
      "cell_type": "code",
      "source": [
        "# Build the LSTM Model\n",
        "model = Sequential()\n",
        "model.add(LSTM(50, return_sequences = True, input_shape = (x_train.shape[1],1)))\n",
        "model.add(LSTM(50, return_sequences = False))\n",
        "model.add(Dense(25))\n",
        "model.add(Dense(1))"
      ],
      "metadata": {
        "id": "oeksP2aBeFRs"
      },
      "execution_count": null,
      "outputs": []
    },
    {
      "cell_type": "code",
      "source": [
        "# Compile the model\n",
        "model.compile(optimizer = 'adam', loss = 'mean_squared_error')"
      ],
      "metadata": {
        "id": "9RmJUGhRdXLF"
      },
      "execution_count": null,
      "outputs": []
    },
    {
      "cell_type": "code",
      "source": [
        "# Train the model\n",
        "model.fit(x_train, y_train, batch_size=1, epochs = 100)"
      ],
      "metadata": {
        "colab": {
          "base_uri": "https://localhost:8080/"
        },
        "id": "V5Ym10Q2dXOx",
        "outputId": "a82c5b34-8fb8-41e6-f160-327f2379885e"
      },
      "execution_count": null,
      "outputs": [
        {
          "output_type": "stream",
          "name": "stdout",
          "text": [
            "2758/2758 [==============================] - 100s 35ms/step - loss: 5.1453e-04\n"
          ]
        },
        {
          "output_type": "execute_result",
          "data": {
            "text/plain": [
              "<keras.src.callbacks.History at 0x7c1db53d7220>"
            ]
          },
          "metadata": {},
          "execution_count": 40
        }
      ]
    },
    {
      "cell_type": "code",
      "source": [
        "# Create the testing dataset\n",
        "# Create a new array containing scaled values from index 2758 to 3522\n",
        "test_data = scaled_data[training_data_len-60: , :]\n",
        "\n",
        "# Create the datasets x_test and y_test\n",
        "x_test = []\n",
        "y_test = dataset[training_data_len:,:]\n",
        "\n",
        "for i in range(60, len(test_data)):\n",
        "  x_test.append(test_data[i-60:i,0])"
      ],
      "metadata": {
        "id": "FejljYxXefzk"
      },
      "execution_count": null,
      "outputs": []
    },
    {
      "cell_type": "code",
      "source": [
        "# Convert the data to a numpy array\n",
        "x_test = np.array(x_test)"
      ],
      "metadata": {
        "id": "z3hWcz-4ef_D"
      },
      "execution_count": null,
      "outputs": []
    },
    {
      "cell_type": "code",
      "source": [
        "# Reshape the data\n",
        "x_test = np.reshape(x_test, (x_test.shape[0], x_test.shape[1],1))\n"
      ],
      "metadata": {
        "id": "39u_KFCOegT7"
      },
      "execution_count": null,
      "outputs": []
    },
    {
      "cell_type": "code",
      "source": [
        "# get the models predicted values\n",
        "predictions = model.predict(x_test)\n",
        "predictions = scaler.inverse_transform(predictions)\n"
      ],
      "metadata": {
        "colab": {
          "base_uri": "https://localhost:8080/"
        },
        "id": "a_HbVho4hfEe",
        "outputId": "79221595-3dbd-4432-8620-ae44dabdd060"
      },
      "execution_count": null,
      "outputs": [
        {
          "output_type": "stream",
          "name": "stdout",
          "text": [
            "22/22 [==============================] - 1s 18ms/step\n"
          ]
        }
      ]
    },
    {
      "cell_type": "code",
      "source": [
        "r_squared = r2_score(y_test, predictions)\n",
        "mse = mean_squared_error(y_test, predictions)\n",
        "rmse = np.sqrt(mse)\n",
        "\n",
        "print(r_squared)\n",
        "print(mse)\n",
        "print(rmse)"
      ],
      "metadata": {
        "colab": {
          "base_uri": "https://localhost:8080/"
        },
        "id": "45RTNT82YvFZ",
        "outputId": "9326a92e-24db-400d-812a-8d924a1a2655"
      },
      "execution_count": null,
      "outputs": [
        {
          "output_type": "stream",
          "name": "stdout",
          "text": [
            "0.9317281152030685\n",
            "25.12545287190592\n",
            "5.012529588132715\n"
          ]
        }
      ]
    },
    {
      "cell_type": "markdown",
      "source": [
        "# Performance Metrics:\n",
        "## R-Squared: 93.17 %\n",
        "## Mean Squared Error: 25.12\n",
        "## Root Mean Squared Error: 5.01\n",
        "## These metric are realtively good for the LSTM model."
      ],
      "metadata": {
        "id": "JGHmIhlhPhP7"
      }
    },
    {
      "cell_type": "code",
      "source": [],
      "metadata": {
        "id": "MG9kMgPRW5fH"
      },
      "execution_count": null,
      "outputs": []
    },
    {
      "cell_type": "code",
      "source": [
        "# Plot the data\n",
        "train = aapl_data[:training_data_len]\n",
        "valid = aapl_data[training_data_len:]\n",
        "valid['Predictions'] = predictions\n",
        "# Visualize the data\n",
        "plt.figure(figsize = (16,8))\n",
        "plt.title('Model')\n",
        "plt.xlabel('Date', fontsize = 18)\n",
        "plt.ylabel('Price of AAPL USD', fontsize = 18)\n",
        "plt.plot(train['Close'])\n",
        "plt.plot(valid[['Close', 'Predictions']])\n",
        "plt.legend(['Train', 'Actuals', 'Predictions'], loc = 'lower right')\n",
        "plt.show()\n"
      ],
      "metadata": {
        "colab": {
          "base_uri": "https://localhost:8080/",
          "height": 560
        },
        "id": "3R859HXsjBMb",
        "outputId": "dd10d314-4364-4705-f6a4-5ddfd8ae6a27"
      },
      "execution_count": null,
      "outputs": [
        {
          "output_type": "stream",
          "name": "stderr",
          "text": [
            "<ipython-input-47-fe342363abb7>:4: SettingWithCopyWarning: \n",
            "A value is trying to be set on a copy of a slice from a DataFrame.\n",
            "Try using .loc[row_indexer,col_indexer] = value instead\n",
            "\n",
            "See the caveats in the documentation: https://pandas.pydata.org/pandas-docs/stable/user_guide/indexing.html#returning-a-view-versus-a-copy\n",
            "  valid['Predictions'] = predictions\n"
          ]
        },
        {
          "output_type": "display_data",
          "data": {
            "text/plain": [
              "<Figure size 1600x800 with 1 Axes>"
            ],
            "image/png": "[encoded data removed]"
          },
          "metadata": {}
        }
      ]
    },
    {
      "cell_type": "code",
      "source": [
        "valid[[\"Close\", \"Predictions\"]]"
      ],
      "metadata": {
        "colab": {
          "base_uri": "https://localhost:8080/",
          "height": 455
        },
        "id": "d9SasG-MkF4V",
        "outputId": "9894897b-fca7-448f-ebb2-ff8cbb742196"
      },
      "execution_count": null,
      "outputs": [
        {
          "output_type": "execute_result",
          "data": {
            "text/plain": [
              "                 Close  Predictions\n",
              "Date                               \n",
              "2021-03-16  125.570000   123.698273\n",
              "2021-03-17  124.760002   124.235130\n",
              "2021-03-18  120.529999   124.669403\n",
              "2021-03-19  119.989998   124.481834\n",
              "2021-03-22  123.389999   124.049240\n",
              "...                ...          ...\n",
              "2023-12-22  193.600006   184.247253\n",
              "2023-12-26  193.050003   183.985336\n",
              "2023-12-27  193.149994   183.687149\n",
              "2023-12-28  193.580002   183.449890\n",
              "2023-12-29  192.529999   183.325150\n",
              "\n",
              "[704 rows x 2 columns]"
            ],
            "text/html": [
              "\n",
              "  <div id=\"df-c2f0e326-d123-4313-8f3b-a5540d47f0e0\" class=\"colab-df-container\">\n",
              "    <div>\n",
              "<style scoped>\n",
              "    .dataframe tbody tr th:only-of-type {\n",
              "        vertical-align: middle;\n",
              "    }\n",
              "\n",
              "    .dataframe tbody tr th {\n",
              "        vertical-align: top;\n",
              "    }\n",
              "\n",
              "    .dataframe thead th {\n",
              "        text-align: right;\n",
              "    }\n",
              "</style>\n",
              "<table border=\"1\" class=\"dataframe\">\n",
              "  <thead>\n",
              "    <tr style=\"text-align: right;\">\n",
              "      <th></th>\n",
              "      <th>Close</th>\n",
              "      <th>Predictions</th>\n",
              "    </tr>\n",
              "    <tr>\n",
              "      <th>Date</th>\n",
              "      <th></th>\n",
              "      <th></th>\n",
              "    </tr>\n",
              "  </thead>\n",
              "  <tbody>\n",
              "    <tr>\n",
              "      <th>2021-03-16</th>\n",
              "      <td>125.570000</td>\n",
              "      <td>123.698273</td>\n",
              "    </tr>\n",
              "    <tr>\n",
              "      <th>2021-03-17</th>\n",
              "      <td>124.760002</td>\n",
              "      <td>124.235130</td>\n",
              "    </tr>\n",
              "    <tr>\n",
              "      <th>2021-03-18</th>\n",
              "      <td>120.529999</td>\n",
              "      <td>124.669403</td>\n",
              "    </tr>\n",
              "    <tr>\n",
              "      <th>2021-03-19</th>\n",
              "      <td>119.989998</td>\n",
              "      <td>124.481834</td>\n",
              "    </tr>\n",
              "    <tr>\n",
              "      <th>2021-03-22</th>\n",
              "      <td>123.389999</td>\n",
              "      <td>124.049240</td>\n",
              "    </tr>\n",
              "    <tr>\n",
              "      <th>...</th>\n",
              "      <td>...</td>\n",
              "      <td>...</td>\n",
              "    </tr>\n",
              "    <tr>\n",
              "      <th>2023-12-22</th>\n",
              "      <td>193.600006</td>\n",
              "      <td>184.247253</td>\n",
              "    </tr>\n",
              "    <tr>\n",
              "      <th>2023-12-26</th>\n",
              "      <td>193.050003</td>\n",
              "      <td>183.985336</td>\n",
              "    </tr>\n",
              "    <tr>\n",
              "      <th>2023-12-27</th>\n",
              "      <td>193.149994</td>\n",
              "      <td>183.687149</td>\n",
              "    </tr>\n",
              "    <tr>\n",
              "      <th>2023-12-28</th>\n",
              "      <td>193.580002</td>\n",
              "      <td>183.449890</td>\n",
              "    </tr>\n",
              "    <tr>\n",
              "      <th>2023-12-29</th>\n",
              "      <td>192.529999</td>\n",
              "      <td>183.325150</td>\n",
              "    </tr>\n",
              "  </tbody>\n",
              "</table>\n",
              "<p>704 rows × 2 columns</p>\n",
              "</div>\n",
              "    <div class=\"colab-df-buttons\">\n",
              "\n",
              "  <div class=\"colab-df-container\">\n",
              "    <button class=\"colab-df-convert\" onclick=\"convertToInteractive('df-c2f0e326-d123-4313-8f3b-a5540d47f0e0')\"\n",
              "            title=\"Convert this dataframe to an interactive table.\"\n",
              "            style=\"display:none;\">\n",
              "\n",
              "  <svg xmlns=\"http://www.w3.org/2000/svg\" height=\"24px\" viewBox=\"0 -960 960 960\">\n",
              "    <path d=\"M120-120v-720h720v720H120Zm60-500h600v-160H180v160Zm220 220h160v-160H400v160Zm0 220h160v-160H400v160ZM180-400h160v-160H180v160Zm440 0h160v-160H620v160ZM180-180h160v-160H180v160Zm440 0h160v-160H620v160Z\"/>\n",
              "  </svg>\n",
              "    </button>\n",
              "\n",
              "  <style>\n",
              "    .colab-df-container {\n",
              "      display:flex;\n",
              "      gap: 12px;\n",
              "    }\n",
              "\n",
              "    .colab-df-convert {\n",
              "      background-color: #E8F0FE;\n",
              "      border: none;\n",
              "      border-radius: 50%;\n",
              "      cursor: pointer;\n",
              "      display: none;\n",
              "      fill: #1967D2;\n",
              "      height: 32px;\n",
              "      padding: 0 0 0 0;\n",
              "      width: 32px;\n",
              "    }\n",
              "\n",
              "    .colab-df-convert:hover {\n",
              "      background-color: #E2EBFA;\n",
              "      box-shadow: 0px 1px 2px rgba(60, 64, 67, 0.3), 0px 1px 3px 1px rgba(60, 64, 67, 0.15);\n",
              "      fill: #174EA6;\n",
              "    }\n",
              "\n",
              "    .colab-df-buttons div {\n",
              "      margin-bottom: 4px;\n",
              "    }\n",
              "\n",
              "    [theme=dark] .colab-df-convert {\n",
              "      background-color: #3B4455;\n",
              "      fill: #D2E3FC;\n",
              "    }\n",
              "\n",
              "    [theme=dark] .colab-df-convert:hover {\n",
              "      background-color: #434B5C;\n",
              "      box-shadow: 0px 1px 3px 1px rgba(0, 0, 0, 0.15);\n",
              "      filter: drop-shadow(0px 1px 2px rgba(0, 0, 0, 0.3));\n",
              "      fill: #FFFFFF;\n",
              "    }\n",
              "  </style>\n",
              "\n",
              "    <script>\n",
              "      const buttonEl =\n",
              "        document.querySelector('#df-c2f0e326-d123-4313-8f3b-a5540d47f0e0 button.colab-df-convert');\n",
              "      buttonEl.style.display =\n",
              "        google.colab.kernel.accessAllowed ? 'block' : 'none';\n",
              "\n",
              "      async function convertToInteractive(key) {\n",
              "        const element = document.querySelector('#df-c2f0e326-d123-4313-8f3b-a5540d47f0e0');\n",
              "        const dataTable =\n",
              "          await google.colab.kernel.invokeFunction('convertToInteractive',\n",
              "                                                    [key], {});\n",
              "        if (!dataTable) return;\n",
              "\n",
              "        const docLinkHtml = 'Like what you see? Visit the ' +\n",
              "          '<a target=\"_blank\" href=https://colab.research.google.com/notebooks/data_table.ipynb>data table notebook</a>'\n",
              "          + ' to learn more about interactive tables.';\n",
              "        element.innerHTML = '';\n",
              "        dataTable['output_type'] = 'display_data';\n",
              "        await google.colab.output.renderOutput(dataTable, element);\n",
              "        const docLink = document.createElement('div');\n",
              "        docLink.innerHTML = docLinkHtml;\n",
              "        element.appendChild(docLink);\n",
              "      }\n",
              "    </script>\n",
              "  </div>\n",
              "\n",
              "\n",
              "<div id=\"df-8be057ef-61d1-4496-ac39-14b16fd0cdf3\">\n",
              "  <button class=\"colab-df-quickchart\" onclick=\"quickchart('df-8be057ef-61d1-4496-ac39-14b16fd0cdf3')\"\n",
              "            title=\"Suggest charts\"\n",
              "            style=\"display:none;\">\n",
              "\n",
              "<svg xmlns=\"http://www.w3.org/2000/svg\" height=\"24px\"viewBox=\"0 0 24 24\"\n",
              "     width=\"24px\">\n",
              "    <g>\n",
              "        <path d=\"M19 3H5c-1.1 0-2 .9-2 2v14c0 1.1.9 2 2 2h14c1.1 0 2-.9 2-2V5c0-1.1-.9-2-2-2zM9 17H7v-7h2v7zm4 0h-2V7h2v10zm4 0h-2v-4h2v4z\"/>\n",
              "    </g>\n",
              "</svg>\n",
              "  </button>\n",
              "\n",
              "<style>\n",
              "  .colab-df-quickchart {\n",
              "      --bg-color: #E8F0FE;\n",
              "      --fill-color: #1967D2;\n",
              "      --hover-bg-color: #E2EBFA;\n",
              "      --hover-fill-color: #174EA6;\n",
              "      --disabled-fill-color: #AAA;\n",
              "      --disabled-bg-color: #DDD;\n",
              "  }\n",
              "\n",
              "  [theme=dark] .colab-df-quickchart {\n",
              "      --bg-color: #3B4455;\n",
              "      --fill-color: #D2E3FC;\n",
              "      --hover-bg-color: #434B5C;\n",
              "      --hover-fill-color: #FFFFFF;\n",
              "      --disabled-bg-color: #3B4455;\n",
              "      --disabled-fill-color: #666;\n",
              "  }\n",
              "\n",
              "  .colab-df-quickchart {\n",
              "    background-color: var(--bg-color);\n",
              "    border: none;\n",
              "    border-radius: 50%;\n",
              "    cursor: pointer;\n",
              "    display: none;\n",
              "    fill: var(--fill-color);\n",
              "    height: 32px;\n",
              "    padding: 0;\n",
              "    width: 32px;\n",
              "  }\n",
              "\n",
              "  .colab-df-quickchart:hover {\n",
              "    background-color: var(--hover-bg-color);\n",
              "    box-shadow: 0 1px 2px rgba(60, 64, 67, 0.3), 0 1px 3px 1px rgba(60, 64, 67, 0.15);\n",
              "    fill: var(--button-hover-fill-color);\n",
              "  }\n",
              "\n",
              "  .colab-df-quickchart-complete:disabled,\n",
              "  .colab-df-quickchart-complete:disabled:hover {\n",
              "    background-color: var(--disabled-bg-color);\n",
              "    fill: var(--disabled-fill-color);\n",
              "    box-shadow: none;\n",
              "  }\n",
              "\n",
              "  .colab-df-spinner {\n",
              "    border: 2px solid var(--fill-color);\n",
              "    border-color: transparent;\n",
              "    border-bottom-color: var(--fill-color);\n",
              "    animation:\n",
              "      spin 1s steps(1) infinite;\n",
              "  }\n",
              "\n",
              "  @keyframes spin {\n",
              "    0% {\n",
              "      border-color: transparent;\n",
              "      border-bottom-color: var(--fill-color);\n",
              "      border-left-color: var(--fill-color);\n",
              "    }\n",
              "    20% {\n",
              "      border-color: transparent;\n",
              "      border-left-color: var(--fill-color);\n",
              "      border-top-color: var(--fill-color);\n",
              "    }\n",
              "    30% {\n",
              "      border-color: transparent;\n",
              "      border-left-color: var(--fill-color);\n",
              "      border-top-color: var(--fill-color);\n",
              "      border-right-color: var(--fill-color);\n",
              "    }\n",
              "    40% {\n",
              "      border-color: transparent;\n",
              "      border-right-color: var(--fill-color);\n",
              "      border-top-color: var(--fill-color);\n",
              "    }\n",
              "    60% {\n",
              "      border-color: transparent;\n",
              "      border-right-color: var(--fill-color);\n",
              "    }\n",
              "    80% {\n",
              "      border-color: transparent;\n",
              "      border-right-color: var(--fill-color);\n",
              "      border-bottom-color: var(--fill-color);\n",
              "    }\n",
              "    90% {\n",
              "      border-color: transparent;\n",
              "      border-bottom-color: var(--fill-color);\n",
              "    }\n",
              "  }\n",
              "</style>\n",
              "\n",
              "  <script>\n",
              "    async function quickchart(key) {\n",
              "      const quickchartButtonEl =\n",
              "        document.querySelector('#' + key + ' button');\n",
              "      quickchartButtonEl.disabled = true;  // To prevent multiple clicks.\n",
              "      quickchartButtonEl.classList.add('colab-df-spinner');\n",
              "      try {\n",
              "        const charts = await google.colab.kernel.invokeFunction(\n",
              "            'suggestCharts', [key], {});\n",
              "      } catch (error) {\n",
              "        console.error('Error during call to suggestCharts:', error);\n",
              "      }\n",
              "      quickchartButtonEl.classList.remove('colab-df-spinner');\n",
              "      quickchartButtonEl.classList.add('colab-df-quickchart-complete');\n",
              "    }\n",
              "    (() => {\n",
              "      let quickchartButtonEl =\n",
              "        document.querySelector('#df-8be057ef-61d1-4496-ac39-14b16fd0cdf3 button');\n",
              "      quickchartButtonEl.style.display =\n",
              "        google.colab.kernel.accessAllowed ? 'block' : 'none';\n",
              "    })();\n",
              "  </script>\n",
              "</div>\n",
              "\n",
              "    </div>\n",
              "  </div>\n"
            ],
            "application/vnd.google.colaboratory.intrinsic+json": {
              "type": "dataframe",
              "summary": "{\n  \"name\": \"valid[[\\\"Close\\\", \\\"Predictions\\\"]]\",\n  \"rows\": 704,\n  \"fields\": [\n    {\n      \"column\": \"Close\",\n      \"properties\": {\n        \"dtype\": \"number\",\n        \"std\": 19.19749971993307,\n        \"min\": 119.9000015258789,\n        \"max\": 198.11000061035156,\n        \"samples\": [\n          188.00999450683594,\n          156.57000732421875,\n          139.13999938964844\n        ],\n        \"num_unique_values\": 661,\n        \"semantic_type\": \"\",\n        \"description\": \"\"\n      }\n    },\n    {\n      \"column\": \"Predictions\",\n      \"properties\": {\n        \"dtype\": \"float32\",\n        \"samples\": [\n          148.99107360839844,\n          139.763916015625,\n          135.5216064453125\n        ],\n        \"num_unique_values\": 704,\n        \"semantic_type\": \"\",\n        \"description\": \"\"\n      }\n    }\n  ]\n}"
            }
          },
          "metadata": {},
          "execution_count": 28
        }
      ]
    },
    {
      "cell_type": "markdown",
      "source": [
        "# Predicting the next days Price:"
      ],
      "metadata": {
        "id": "LRp9qbEwQVq2"
      }
    },
    {
      "cell_type": "code",
      "source": [
        "# Get the quote\n",
        "# Download AAPL data from 2010-01-01 to 2024-01-01\n",
        "aapl_data = yf.download('AAPL', start='2010-01-01', end='2024-01-01')\n",
        "\n",
        "#Create a New DataFrame\n",
        "new_df = aapl_data.filter([\"Close\"])\n",
        "\n",
        "#Get the last 60 days Closing Prices\n",
        "last_60_days = new_df[-60:].values\n",
        "\n",
        "#Scale the data to be the values between 0 an 1\n",
        "last_60_days_scaled = scaler.transform(last_60_days)\n",
        "\n",
        "#Create an empty list\n",
        "X_test = []\n",
        "X_test.append(last_60_days_scaled)\n",
        "\n",
        "#Convert the x_test datates to numpy array\n",
        "X_test = np.array(X_test)\n",
        "\n",
        "# Reahape the data\n",
        "X_test = np.reshape(X_test, (X_test.shape[0], X_test.shape[1], 1))\n",
        "\n",
        "# Get the predicted Scaled Prices\n",
        "pred_price = model.predict(X_test)\n",
        "\n",
        "#Undo the Scaling\n",
        "pred_price = scaler.inverse_transform(pred_price)\n",
        "\n",
        "print(pred_price)"
      ],
      "metadata": {
        "colab": {
          "base_uri": "https://localhost:8080/"
        },
        "id": "zcXiCshtmDjF",
        "outputId": "d6d05f81-8b66-4046-e049-65d159197148"
      },
      "execution_count": null,
      "outputs": [
        {
          "output_type": "stream",
          "name": "stderr",
          "text": [
            "\r[*********************100%%**********************]  1 of 1 completed\n"
          ]
        },
        {
          "output_type": "stream",
          "name": "stdout",
          "text": [
            "1/1 [==============================] - 1s 850ms/step\n",
            "[[183.1317]]\n"
          ]
        }
      ]
    },
    {
      "cell_type": "markdown",
      "source": [
        "# Future Application:\n",
        "\n",
        "## 1) we have used LSTM model beacuse of which it is really hard to backtest this model.\n",
        "## 2) The performance metrics are way too good so we need to check for overfitting that's why backtesting the model is necessary.\n",
        "## 3) we can use this model to predict the stock price of different Stocks as well.\n",
        "\n"
      ],
      "metadata": {
        "id": "ocnwIj2XQcGi"
      }
    },
    {
      "cell_type": "code",
      "source": [],
      "metadata": {
        "id": "DzumMG2BRwnW"
      },
      "execution_count": null,
      "outputs": []
    }
  ]
}